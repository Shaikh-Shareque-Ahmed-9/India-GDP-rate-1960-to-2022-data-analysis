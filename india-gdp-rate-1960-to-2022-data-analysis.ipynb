{
 "cells": [
  {
   "cell_type": "markdown",
   "id": "44baf311",
   "metadata": {
    "papermill": {
     "duration": 0.007536,
     "end_time": "2022-12-01T10:37:13.186447",
     "exception": false,
     "start_time": "2022-12-01T10:37:13.178911",
     "status": "completed"
    },
    "tags": []
   },
   "source": [
    "# India GDP Rate 1960-2022"
   ]
  },
  {
   "cell_type": "markdown",
   "id": "949aa338",
   "metadata": {
    "papermill": {
     "duration": 0.005946,
     "end_time": "2022-12-01T10:37:13.198855",
     "exception": false,
     "start_time": "2022-12-01T10:37:13.192909",
     "status": "completed"
    },
    "tags": []
   },
   "source": [
    "# About Dataset\n",
    "\n",
    "# Context:\n",
    "GDP at purchaser's prices is the sum of gross value added by all resident producers in the economy plus any product taxes and minus any subsidies not included in the value of the products. It is calculated without making deductions for depreciation of fabricated assets or for depletion and degradation of natural resources.\n",
    "Determining gross domestic product (GDP)\n",
    "\n",
    "GDP can be determined in three ways, all of which should, theoretically, give the same result.\n",
    "They are the production (or output or value added) approach, the income approach, and the\n",
    "speculated expenditure approach. It is representative of the total output and income\n",
    "within an economy.\n",
    "\n",
    "# Columns In The Dataset\n",
    "- YEAR\n",
    "- GDP\n",
    "- Per Capita Income\n",
    "- Growth Rate\n",
    "\n",
    "# Acknowledgements (From The Author Of The Data)\n",
    "The Method for collecting the Data is Web Scraping\n",
    "\n",
    "# Link\n",
    "https://www.kaggle.com/datasets/rajkumarpandey02/india-gdp-rate-19602022"
   ]
  },
  {
   "cell_type": "markdown",
   "id": "52784790",
   "metadata": {
    "papermill": {
     "duration": 0.005909,
     "end_time": "2022-12-01T10:37:13.210886",
     "exception": false,
     "start_time": "2022-12-01T10:37:13.204977",
     "status": "completed"
    },
    "tags": []
   },
   "source": [
    "# 1. Importing The Relevant Libraries"
   ]
  },
  {
   "cell_type": "code",
   "execution_count": 1,
   "id": "b3d1c94d",
   "metadata": {
    "execution": {
     "iopub.execute_input": "2022-12-01T10:37:13.225028Z",
     "iopub.status.busy": "2022-12-01T10:37:13.224524Z",
     "iopub.status.idle": "2022-12-01T10:37:14.110595Z",
     "shell.execute_reply": "2022-12-01T10:37:14.109551Z"
    },
    "papermill": {
     "duration": 0.896383,
     "end_time": "2022-12-01T10:37:14.113460",
     "exception": false,
     "start_time": "2022-12-01T10:37:13.217077",
     "status": "completed"
    },
    "tags": []
   },
   "outputs": [],
   "source": [
    "import numpy as np \n",
    "import pandas as pd\n",
    "import matplotlib.pyplot as plt\n",
    "import matplotlib.ticker as mticker\n",
    "\n",
    "import seaborn as sns\n",
    "sns.set()\n",
    "\n",
    "import warnings\n",
    "warnings.filterwarnings(\"ignore\")"
   ]
  },
  {
   "cell_type": "markdown",
   "id": "a9e3e85c",
   "metadata": {
    "papermill": {
     "duration": 0.008055,
     "end_time": "2022-12-01T10:37:14.129975",
     "exception": false,
     "start_time": "2022-12-01T10:37:14.121920",
     "status": "completed"
    },
    "tags": []
   },
   "source": [
    "# 2. Importing The Data"
   ]
  },
  {
   "cell_type": "code",
   "execution_count": 2,
   "id": "657474a3",
   "metadata": {
    "execution": {
     "iopub.execute_input": "2022-12-01T10:37:14.148384Z",
     "iopub.status.busy": "2022-12-01T10:37:14.147821Z",
     "iopub.status.idle": "2022-12-01T10:37:14.190627Z",
     "shell.execute_reply": "2022-12-01T10:37:14.189401Z"
    },
    "papermill": {
     "duration": 0.056092,
     "end_time": "2022-12-01T10:37:14.193590",
     "exception": false,
     "start_time": "2022-12-01T10:37:14.137498",
     "status": "completed"
    },
    "tags": []
   },
   "outputs": [
    {
     "data": {
      "text/html": [
       "<div>\n",
       "<style scoped>\n",
       "    .dataframe tbody tr th:only-of-type {\n",
       "        vertical-align: middle;\n",
       "    }\n",
       "\n",
       "    .dataframe tbody tr th {\n",
       "        vertical-align: top;\n",
       "    }\n",
       "\n",
       "    .dataframe thead th {\n",
       "        text-align: right;\n",
       "    }\n",
       "</style>\n",
       "<table border=\"1\" class=\"dataframe\">\n",
       "  <thead>\n",
       "    <tr style=\"text-align: right;\">\n",
       "      <th></th>\n",
       "      <th>Unnamed: 0</th>\n",
       "      <th>India GDP - Historical Data</th>\n",
       "      <th>India GDP - Historical Data.1</th>\n",
       "      <th>India GDP - Historical Data.2</th>\n",
       "      <th>India GDP - Historical Data.3</th>\n",
       "    </tr>\n",
       "  </thead>\n",
       "  <tbody>\n",
       "    <tr>\n",
       "      <th>0</th>\n",
       "      <td>NaN</td>\n",
       "      <td>Year</td>\n",
       "      <td>GDP</td>\n",
       "      <td>Per Capita</td>\n",
       "      <td>Growth</td>\n",
       "    </tr>\n",
       "    <tr>\n",
       "      <th>1</th>\n",
       "      <td>0.0</td>\n",
       "      <td>2021</td>\n",
       "      <td>$3,173.40B</td>\n",
       "      <td>$2,277</td>\n",
       "      <td>8.95%</td>\n",
       "    </tr>\n",
       "    <tr>\n",
       "      <th>2</th>\n",
       "      <td>1.0</td>\n",
       "      <td>2020</td>\n",
       "      <td>$2,667.69B</td>\n",
       "      <td>$1,933</td>\n",
       "      <td>-6.60%</td>\n",
       "    </tr>\n",
       "    <tr>\n",
       "      <th>3</th>\n",
       "      <td>2.0</td>\n",
       "      <td>2019</td>\n",
       "      <td>$2,831.55B</td>\n",
       "      <td>$2,072</td>\n",
       "      <td>3.74%</td>\n",
       "    </tr>\n",
       "    <tr>\n",
       "      <th>4</th>\n",
       "      <td>3.0</td>\n",
       "      <td>2018</td>\n",
       "      <td>$2,702.93B</td>\n",
       "      <td>$1,998</td>\n",
       "      <td>6.45%</td>\n",
       "    </tr>\n",
       "  </tbody>\n",
       "</table>\n",
       "</div>"
      ],
      "text/plain": [
       "   Unnamed: 0 India GDP - Historical Data India GDP - Historical Data.1  \\\n",
       "0         NaN                        Year                           GDP   \n",
       "1         0.0                        2021                    $3,173.40B   \n",
       "2         1.0                        2020                    $2,667.69B   \n",
       "3         2.0                        2019                    $2,831.55B   \n",
       "4         3.0                        2018                    $2,702.93B   \n",
       "\n",
       "  India GDP - Historical Data.2 India GDP - Historical Data.3  \n",
       "0                    Per Capita                        Growth  \n",
       "1                        $2,277                         8.95%  \n",
       "2                        $1,933                        -6.60%  \n",
       "3                        $2,072                         3.74%  \n",
       "4                        $1,998                         6.45%  "
      ]
     },
     "execution_count": 2,
     "metadata": {},
     "output_type": "execute_result"
    }
   ],
   "source": [
    "df = pd.read_csv(\"/kaggle/input/india-gdp-rate-19602022/India GDP 1960-2022.csv\")\n",
    "df.head()"
   ]
  },
  {
   "cell_type": "markdown",
   "id": "77aa0741",
   "metadata": {
    "papermill": {
     "duration": 0.007656,
     "end_time": "2022-12-01T10:37:14.210454",
     "exception": false,
     "start_time": "2022-12-01T10:37:14.202798",
     "status": "completed"
    },
    "tags": []
   },
   "source": [
    "# 3. Structuring & Cleaning The Data "
   ]
  },
  {
   "cell_type": "code",
   "execution_count": 3,
   "id": "5d49d733",
   "metadata": {
    "execution": {
     "iopub.execute_input": "2022-12-01T10:37:14.224492Z",
     "iopub.status.busy": "2022-12-01T10:37:14.224128Z",
     "iopub.status.idle": "2022-12-01T10:37:14.232345Z",
     "shell.execute_reply": "2022-12-01T10:37:14.231183Z"
    },
    "papermill": {
     "duration": 0.018076,
     "end_time": "2022-12-01T10:37:14.234706",
     "exception": false,
     "start_time": "2022-12-01T10:37:14.216630",
     "status": "completed"
    },
    "tags": []
   },
   "outputs": [
    {
     "data": {
      "text/plain": [
       "Unnamed: 0                       1\n",
       "India GDP - Historical Data      0\n",
       "India GDP - Historical Data.1    0\n",
       "India GDP - Historical Data.2    0\n",
       "India GDP - Historical Data.3    0\n",
       "dtype: int64"
      ]
     },
     "execution_count": 3,
     "metadata": {},
     "output_type": "execute_result"
    }
   ],
   "source": [
    "# Checking For Null Values \n",
    "df.isnull().sum()"
   ]
  },
  {
   "cell_type": "code",
   "execution_count": 4,
   "id": "c441536d",
   "metadata": {
    "execution": {
     "iopub.execute_input": "2022-12-01T10:37:14.250022Z",
     "iopub.status.busy": "2022-12-01T10:37:14.249275Z",
     "iopub.status.idle": "2022-12-01T10:37:14.268859Z",
     "shell.execute_reply": "2022-12-01T10:37:14.267742Z"
    },
    "papermill": {
     "duration": 0.029664,
     "end_time": "2022-12-01T10:37:14.271086",
     "exception": false,
     "start_time": "2022-12-01T10:37:14.241422",
     "status": "completed"
    },
    "tags": []
   },
   "outputs": [
    {
     "data": {
      "text/html": [
       "<div>\n",
       "<style scoped>\n",
       "    .dataframe tbody tr th:only-of-type {\n",
       "        vertical-align: middle;\n",
       "    }\n",
       "\n",
       "    .dataframe tbody tr th {\n",
       "        vertical-align: top;\n",
       "    }\n",
       "\n",
       "    .dataframe thead th {\n",
       "        text-align: right;\n",
       "    }\n",
       "</style>\n",
       "<table border=\"1\" class=\"dataframe\">\n",
       "  <thead>\n",
       "    <tr style=\"text-align: right;\">\n",
       "      <th></th>\n",
       "      <th>India GDP - Historical Data</th>\n",
       "      <th>India GDP - Historical Data.1</th>\n",
       "      <th>India GDP - Historical Data.2</th>\n",
       "      <th>India GDP - Historical Data.3</th>\n",
       "    </tr>\n",
       "  </thead>\n",
       "  <tbody>\n",
       "    <tr>\n",
       "      <th>0</th>\n",
       "      <td>Year</td>\n",
       "      <td>GDP</td>\n",
       "      <td>Per Capita</td>\n",
       "      <td>Growth</td>\n",
       "    </tr>\n",
       "    <tr>\n",
       "      <th>1</th>\n",
       "      <td>2021</td>\n",
       "      <td>$3,173.40B</td>\n",
       "      <td>$2,277</td>\n",
       "      <td>8.95%</td>\n",
       "    </tr>\n",
       "    <tr>\n",
       "      <th>2</th>\n",
       "      <td>2020</td>\n",
       "      <td>$2,667.69B</td>\n",
       "      <td>$1,933</td>\n",
       "      <td>-6.60%</td>\n",
       "    </tr>\n",
       "    <tr>\n",
       "      <th>3</th>\n",
       "      <td>2019</td>\n",
       "      <td>$2,831.55B</td>\n",
       "      <td>$2,072</td>\n",
       "      <td>3.74%</td>\n",
       "    </tr>\n",
       "    <tr>\n",
       "      <th>4</th>\n",
       "      <td>2018</td>\n",
       "      <td>$2,702.93B</td>\n",
       "      <td>$1,998</td>\n",
       "      <td>6.45%</td>\n",
       "    </tr>\n",
       "    <tr>\n",
       "      <th>...</th>\n",
       "      <td>...</td>\n",
       "      <td>...</td>\n",
       "      <td>...</td>\n",
       "      <td>...</td>\n",
       "    </tr>\n",
       "    <tr>\n",
       "      <th>58</th>\n",
       "      <td>1964</td>\n",
       "      <td>$56.48B</td>\n",
       "      <td>$116</td>\n",
       "      <td>7.45%</td>\n",
       "    </tr>\n",
       "    <tr>\n",
       "      <th>59</th>\n",
       "      <td>1963</td>\n",
       "      <td>$48.42B</td>\n",
       "      <td>$101</td>\n",
       "      <td>5.99%</td>\n",
       "    </tr>\n",
       "    <tr>\n",
       "      <th>60</th>\n",
       "      <td>1962</td>\n",
       "      <td>$42.16B</td>\n",
       "      <td>$90</td>\n",
       "      <td>2.93%</td>\n",
       "    </tr>\n",
       "    <tr>\n",
       "      <th>61</th>\n",
       "      <td>1961</td>\n",
       "      <td>$39.23B</td>\n",
       "      <td>$85</td>\n",
       "      <td>3.72%</td>\n",
       "    </tr>\n",
       "    <tr>\n",
       "      <th>62</th>\n",
       "      <td>1960</td>\n",
       "      <td>$37.03B</td>\n",
       "      <td>$82</td>\n",
       "      <td>%</td>\n",
       "    </tr>\n",
       "  </tbody>\n",
       "</table>\n",
       "<p>63 rows × 4 columns</p>\n",
       "</div>"
      ],
      "text/plain": [
       "   India GDP - Historical Data India GDP - Historical Data.1  \\\n",
       "0                         Year                           GDP   \n",
       "1                         2021                    $3,173.40B   \n",
       "2                         2020                    $2,667.69B   \n",
       "3                         2019                    $2,831.55B   \n",
       "4                         2018                    $2,702.93B   \n",
       "..                         ...                           ...   \n",
       "58                        1964                       $56.48B   \n",
       "59                        1963                       $48.42B   \n",
       "60                        1962                       $42.16B   \n",
       "61                        1961                       $39.23B   \n",
       "62                        1960                       $37.03B   \n",
       "\n",
       "   India GDP - Historical Data.2 India GDP - Historical Data.3  \n",
       "0                     Per Capita                        Growth  \n",
       "1                         $2,277                         8.95%  \n",
       "2                         $1,933                        -6.60%  \n",
       "3                         $2,072                         3.74%  \n",
       "4                         $1,998                         6.45%  \n",
       "..                           ...                           ...  \n",
       "58                          $116                         7.45%  \n",
       "59                          $101                         5.99%  \n",
       "60                           $90                         2.93%  \n",
       "61                           $85                         3.72%  \n",
       "62                           $82                             %  \n",
       "\n",
       "[63 rows x 4 columns]"
      ]
     },
     "execution_count": 4,
     "metadata": {},
     "output_type": "execute_result"
    }
   ],
   "source": [
    "# Droping the first column - The values are similar to the index values (But in Float)\n",
    "df.drop(columns = \"Unnamed: 0\", axis = 1, inplace = True)\n",
    "df"
   ]
  },
  {
   "cell_type": "code",
   "execution_count": 5,
   "id": "fe302e1a",
   "metadata": {
    "execution": {
     "iopub.execute_input": "2022-12-01T10:37:14.286688Z",
     "iopub.status.busy": "2022-12-01T10:37:14.286344Z",
     "iopub.status.idle": "2022-12-01T10:37:14.302840Z",
     "shell.execute_reply": "2022-12-01T10:37:14.301786Z"
    },
    "papermill": {
     "duration": 0.027194,
     "end_time": "2022-12-01T10:37:14.305353",
     "exception": false,
     "start_time": "2022-12-01T10:37:14.278159",
     "status": "completed"
    },
    "tags": []
   },
   "outputs": [
    {
     "data": {
      "text/html": [
       "<div>\n",
       "<style scoped>\n",
       "    .dataframe tbody tr th:only-of-type {\n",
       "        vertical-align: middle;\n",
       "    }\n",
       "\n",
       "    .dataframe tbody tr th {\n",
       "        vertical-align: top;\n",
       "    }\n",
       "\n",
       "    .dataframe thead th {\n",
       "        text-align: right;\n",
       "    }\n",
       "</style>\n",
       "<table border=\"1\" class=\"dataframe\">\n",
       "  <thead>\n",
       "    <tr style=\"text-align: right;\">\n",
       "      <th></th>\n",
       "      <th>Year</th>\n",
       "      <th>GDP ($,B)</th>\n",
       "      <th>Per Capita ($)</th>\n",
       "      <th>Growth (%)</th>\n",
       "    </tr>\n",
       "  </thead>\n",
       "  <tbody>\n",
       "    <tr>\n",
       "      <th>0</th>\n",
       "      <td>Year</td>\n",
       "      <td>GDP</td>\n",
       "      <td>Per Capita</td>\n",
       "      <td>Growth</td>\n",
       "    </tr>\n",
       "    <tr>\n",
       "      <th>1</th>\n",
       "      <td>2021</td>\n",
       "      <td>$3,173.40B</td>\n",
       "      <td>$2,277</td>\n",
       "      <td>8.95%</td>\n",
       "    </tr>\n",
       "    <tr>\n",
       "      <th>2</th>\n",
       "      <td>2020</td>\n",
       "      <td>$2,667.69B</td>\n",
       "      <td>$1,933</td>\n",
       "      <td>-6.60%</td>\n",
       "    </tr>\n",
       "    <tr>\n",
       "      <th>3</th>\n",
       "      <td>2019</td>\n",
       "      <td>$2,831.55B</td>\n",
       "      <td>$2,072</td>\n",
       "      <td>3.74%</td>\n",
       "    </tr>\n",
       "    <tr>\n",
       "      <th>4</th>\n",
       "      <td>2018</td>\n",
       "      <td>$2,702.93B</td>\n",
       "      <td>$1,998</td>\n",
       "      <td>6.45%</td>\n",
       "    </tr>\n",
       "    <tr>\n",
       "      <th>...</th>\n",
       "      <td>...</td>\n",
       "      <td>...</td>\n",
       "      <td>...</td>\n",
       "      <td>...</td>\n",
       "    </tr>\n",
       "    <tr>\n",
       "      <th>58</th>\n",
       "      <td>1964</td>\n",
       "      <td>$56.48B</td>\n",
       "      <td>$116</td>\n",
       "      <td>7.45%</td>\n",
       "    </tr>\n",
       "    <tr>\n",
       "      <th>59</th>\n",
       "      <td>1963</td>\n",
       "      <td>$48.42B</td>\n",
       "      <td>$101</td>\n",
       "      <td>5.99%</td>\n",
       "    </tr>\n",
       "    <tr>\n",
       "      <th>60</th>\n",
       "      <td>1962</td>\n",
       "      <td>$42.16B</td>\n",
       "      <td>$90</td>\n",
       "      <td>2.93%</td>\n",
       "    </tr>\n",
       "    <tr>\n",
       "      <th>61</th>\n",
       "      <td>1961</td>\n",
       "      <td>$39.23B</td>\n",
       "      <td>$85</td>\n",
       "      <td>3.72%</td>\n",
       "    </tr>\n",
       "    <tr>\n",
       "      <th>62</th>\n",
       "      <td>1960</td>\n",
       "      <td>$37.03B</td>\n",
       "      <td>$82</td>\n",
       "      <td>%</td>\n",
       "    </tr>\n",
       "  </tbody>\n",
       "</table>\n",
       "<p>63 rows × 4 columns</p>\n",
       "</div>"
      ],
      "text/plain": [
       "    Year   GDP ($,B) Per Capita ($) Growth (%)\n",
       "0   Year         GDP     Per Capita     Growth\n",
       "1   2021  $3,173.40B         $2,277      8.95%\n",
       "2   2020  $2,667.69B         $1,933     -6.60%\n",
       "3   2019  $2,831.55B         $2,072      3.74%\n",
       "4   2018  $2,702.93B         $1,998      6.45%\n",
       "..   ...         ...            ...        ...\n",
       "58  1964     $56.48B           $116      7.45%\n",
       "59  1963     $48.42B           $101      5.99%\n",
       "60  1962     $42.16B            $90      2.93%\n",
       "61  1961     $39.23B            $85      3.72%\n",
       "62  1960     $37.03B            $82          %\n",
       "\n",
       "[63 rows x 4 columns]"
      ]
     },
     "execution_count": 5,
     "metadata": {},
     "output_type": "execute_result"
    }
   ],
   "source": [
    "# Renaming The Columns\n",
    "df.rename(columns={\n",
    "        'India GDP - Historical Data' : 'Year', \n",
    "        'India GDP - Historical Data.1' : 'GDP ($,B)', \n",
    "        'India GDP - Historical Data.2' : 'Per Capita ($)', \n",
    "        'India GDP - Historical Data.3': 'Growth (%)'   \n",
    "                  }, inplace=True)\n",
    "df"
   ]
  },
  {
   "cell_type": "code",
   "execution_count": 6,
   "id": "afdc199a",
   "metadata": {
    "execution": {
     "iopub.execute_input": "2022-12-01T10:37:14.321336Z",
     "iopub.status.busy": "2022-12-01T10:37:14.320482Z",
     "iopub.status.idle": "2022-12-01T10:37:14.333864Z",
     "shell.execute_reply": "2022-12-01T10:37:14.332658Z"
    },
    "papermill": {
     "duration": 0.023793,
     "end_time": "2022-12-01T10:37:14.336263",
     "exception": false,
     "start_time": "2022-12-01T10:37:14.312470",
     "status": "completed"
    },
    "tags": []
   },
   "outputs": [
    {
     "data": {
      "text/html": [
       "<div>\n",
       "<style scoped>\n",
       "    .dataframe tbody tr th:only-of-type {\n",
       "        vertical-align: middle;\n",
       "    }\n",
       "\n",
       "    .dataframe tbody tr th {\n",
       "        vertical-align: top;\n",
       "    }\n",
       "\n",
       "    .dataframe thead th {\n",
       "        text-align: right;\n",
       "    }\n",
       "</style>\n",
       "<table border=\"1\" class=\"dataframe\">\n",
       "  <thead>\n",
       "    <tr style=\"text-align: right;\">\n",
       "      <th></th>\n",
       "      <th>Year</th>\n",
       "      <th>GDP ($,B)</th>\n",
       "      <th>Per Capita ($)</th>\n",
       "      <th>Growth (%)</th>\n",
       "    </tr>\n",
       "  </thead>\n",
       "  <tbody>\n",
       "    <tr>\n",
       "      <th>1</th>\n",
       "      <td>2021</td>\n",
       "      <td>$3,173.40B</td>\n",
       "      <td>$2,277</td>\n",
       "      <td>8.95%</td>\n",
       "    </tr>\n",
       "    <tr>\n",
       "      <th>2</th>\n",
       "      <td>2020</td>\n",
       "      <td>$2,667.69B</td>\n",
       "      <td>$1,933</td>\n",
       "      <td>-6.60%</td>\n",
       "    </tr>\n",
       "    <tr>\n",
       "      <th>3</th>\n",
       "      <td>2019</td>\n",
       "      <td>$2,831.55B</td>\n",
       "      <td>$2,072</td>\n",
       "      <td>3.74%</td>\n",
       "    </tr>\n",
       "    <tr>\n",
       "      <th>4</th>\n",
       "      <td>2018</td>\n",
       "      <td>$2,702.93B</td>\n",
       "      <td>$1,998</td>\n",
       "      <td>6.45%</td>\n",
       "    </tr>\n",
       "    <tr>\n",
       "      <th>5</th>\n",
       "      <td>2017</td>\n",
       "      <td>$2,651.47B</td>\n",
       "      <td>$1,981</td>\n",
       "      <td>6.80%</td>\n",
       "    </tr>\n",
       "    <tr>\n",
       "      <th>...</th>\n",
       "      <td>...</td>\n",
       "      <td>...</td>\n",
       "      <td>...</td>\n",
       "      <td>...</td>\n",
       "    </tr>\n",
       "    <tr>\n",
       "      <th>58</th>\n",
       "      <td>1964</td>\n",
       "      <td>$56.48B</td>\n",
       "      <td>$116</td>\n",
       "      <td>7.45%</td>\n",
       "    </tr>\n",
       "    <tr>\n",
       "      <th>59</th>\n",
       "      <td>1963</td>\n",
       "      <td>$48.42B</td>\n",
       "      <td>$101</td>\n",
       "      <td>5.99%</td>\n",
       "    </tr>\n",
       "    <tr>\n",
       "      <th>60</th>\n",
       "      <td>1962</td>\n",
       "      <td>$42.16B</td>\n",
       "      <td>$90</td>\n",
       "      <td>2.93%</td>\n",
       "    </tr>\n",
       "    <tr>\n",
       "      <th>61</th>\n",
       "      <td>1961</td>\n",
       "      <td>$39.23B</td>\n",
       "      <td>$85</td>\n",
       "      <td>3.72%</td>\n",
       "    </tr>\n",
       "    <tr>\n",
       "      <th>62</th>\n",
       "      <td>1960</td>\n",
       "      <td>$37.03B</td>\n",
       "      <td>$82</td>\n",
       "      <td>%</td>\n",
       "    </tr>\n",
       "  </tbody>\n",
       "</table>\n",
       "<p>62 rows × 4 columns</p>\n",
       "</div>"
      ],
      "text/plain": [
       "    Year   GDP ($,B) Per Capita ($) Growth (%)\n",
       "1   2021  $3,173.40B         $2,277      8.95%\n",
       "2   2020  $2,667.69B         $1,933     -6.60%\n",
       "3   2019  $2,831.55B         $2,072      3.74%\n",
       "4   2018  $2,702.93B         $1,998      6.45%\n",
       "5   2017  $2,651.47B         $1,981      6.80%\n",
       "..   ...         ...            ...        ...\n",
       "58  1964     $56.48B           $116      7.45%\n",
       "59  1963     $48.42B           $101      5.99%\n",
       "60  1962     $42.16B            $90      2.93%\n",
       "61  1961     $39.23B            $85      3.72%\n",
       "62  1960     $37.03B            $82          %\n",
       "\n",
       "[62 rows x 4 columns]"
      ]
     },
     "execution_count": 6,
     "metadata": {},
     "output_type": "execute_result"
    }
   ],
   "source": [
    "# Removing the first row \n",
    "df = df[1:] \n",
    "df"
   ]
  },
  {
   "cell_type": "code",
   "execution_count": 7,
   "id": "8264a94f",
   "metadata": {
    "execution": {
     "iopub.execute_input": "2022-12-01T10:37:14.352342Z",
     "iopub.status.busy": "2022-12-01T10:37:14.351975Z",
     "iopub.status.idle": "2022-12-01T10:37:14.361689Z",
     "shell.execute_reply": "2022-12-01T10:37:14.360588Z"
    },
    "papermill": {
     "duration": 0.020342,
     "end_time": "2022-12-01T10:37:14.363939",
     "exception": false,
     "start_time": "2022-12-01T10:37:14.343597",
     "status": "completed"
    },
    "tags": []
   },
   "outputs": [],
   "source": [
    "# GDP ($,B)\n",
    "# Aim: Convert $37.03B -> 3703 -> 37.03\n",
    "# String -> Integer -> Float \n",
    "df['GDP ($,B)'] = df['GDP ($,B)'].replace('[\\$\\,\\.\\\"B\"]', '', regex=True).astype(int)\n",
    "df['GDP ($,B)'] = df['GDP ($,B)']/100\n",
    "df\n",
    "\n",
    "# Per Capita ($)\n",
    "# Aim: Convert $82 -> 82\n",
    "# String -> Float \n",
    "df['Per Capita ($)'] = df['Per Capita ($)'].replace('[\\$\\,\\.]', '', regex=True).astype(float)"
   ]
  },
  {
   "cell_type": "code",
   "execution_count": 8,
   "id": "e614acfa",
   "metadata": {
    "execution": {
     "iopub.execute_input": "2022-12-01T10:37:14.379883Z",
     "iopub.status.busy": "2022-12-01T10:37:14.379484Z",
     "iopub.status.idle": "2022-12-01T10:37:14.388325Z",
     "shell.execute_reply": "2022-12-01T10:37:14.387238Z"
    },
    "papermill": {
     "duration": 0.019267,
     "end_time": "2022-12-01T10:37:14.390429",
     "exception": false,
     "start_time": "2022-12-01T10:37:14.371162",
     "status": "completed"
    },
    "tags": []
   },
   "outputs": [],
   "source": [
    "# There is one value that is fully string i.e) \"%\"\n",
    "# Conversion to \"0%\" is needed for further processsing \n",
    "df['Growth (%)'] = df['Growth (%)'].replace([\"%\"], [\"0%\"])\n",
    "\n",
    "# Growth (%)\n",
    "# Aim:Convert 3.72% -> 372 -> 3.72\n",
    "# String -> int -> float \n",
    "df['Growth (%)'] = df['Growth (%)'].replace('[\\\"%\"\\.\\\"\"]', '', regex=True).astype(int)\n",
    "df['Growth (%)'] = df['Growth (%)']/100"
   ]
  },
  {
   "cell_type": "code",
   "execution_count": 9,
   "id": "c3a938d8",
   "metadata": {
    "execution": {
     "iopub.execute_input": "2022-12-01T10:37:14.406438Z",
     "iopub.status.busy": "2022-12-01T10:37:14.406107Z",
     "iopub.status.idle": "2022-12-01T10:37:14.422831Z",
     "shell.execute_reply": "2022-12-01T10:37:14.421874Z"
    },
    "papermill": {
     "duration": 0.027472,
     "end_time": "2022-12-01T10:37:14.425089",
     "exception": false,
     "start_time": "2022-12-01T10:37:14.397617",
     "status": "completed"
    },
    "tags": []
   },
   "outputs": [
    {
     "data": {
      "text/html": [
       "<div>\n",
       "<style scoped>\n",
       "    .dataframe tbody tr th:only-of-type {\n",
       "        vertical-align: middle;\n",
       "    }\n",
       "\n",
       "    .dataframe tbody tr th {\n",
       "        vertical-align: top;\n",
       "    }\n",
       "\n",
       "    .dataframe thead th {\n",
       "        text-align: right;\n",
       "    }\n",
       "</style>\n",
       "<table border=\"1\" class=\"dataframe\">\n",
       "  <thead>\n",
       "    <tr style=\"text-align: right;\">\n",
       "      <th></th>\n",
       "      <th>Year</th>\n",
       "      <th>GDP ($,B)</th>\n",
       "      <th>Per Capita ($)</th>\n",
       "      <th>Growth (%)</th>\n",
       "    </tr>\n",
       "  </thead>\n",
       "  <tbody>\n",
       "    <tr>\n",
       "      <th>62</th>\n",
       "      <td>1960</td>\n",
       "      <td>37.03</td>\n",
       "      <td>82.0</td>\n",
       "      <td>0.00</td>\n",
       "    </tr>\n",
       "    <tr>\n",
       "      <th>61</th>\n",
       "      <td>1961</td>\n",
       "      <td>39.23</td>\n",
       "      <td>85.0</td>\n",
       "      <td>3.72</td>\n",
       "    </tr>\n",
       "    <tr>\n",
       "      <th>60</th>\n",
       "      <td>1962</td>\n",
       "      <td>42.16</td>\n",
       "      <td>90.0</td>\n",
       "      <td>2.93</td>\n",
       "    </tr>\n",
       "    <tr>\n",
       "      <th>59</th>\n",
       "      <td>1963</td>\n",
       "      <td>48.42</td>\n",
       "      <td>101.0</td>\n",
       "      <td>5.99</td>\n",
       "    </tr>\n",
       "    <tr>\n",
       "      <th>58</th>\n",
       "      <td>1964</td>\n",
       "      <td>56.48</td>\n",
       "      <td>116.0</td>\n",
       "      <td>7.45</td>\n",
       "    </tr>\n",
       "    <tr>\n",
       "      <th>...</th>\n",
       "      <td>...</td>\n",
       "      <td>...</td>\n",
       "      <td>...</td>\n",
       "      <td>...</td>\n",
       "    </tr>\n",
       "    <tr>\n",
       "      <th>5</th>\n",
       "      <td>2017</td>\n",
       "      <td>2651.47</td>\n",
       "      <td>1981.0</td>\n",
       "      <td>6.80</td>\n",
       "    </tr>\n",
       "    <tr>\n",
       "      <th>4</th>\n",
       "      <td>2018</td>\n",
       "      <td>2702.93</td>\n",
       "      <td>1998.0</td>\n",
       "      <td>6.45</td>\n",
       "    </tr>\n",
       "    <tr>\n",
       "      <th>3</th>\n",
       "      <td>2019</td>\n",
       "      <td>2831.55</td>\n",
       "      <td>2072.0</td>\n",
       "      <td>3.74</td>\n",
       "    </tr>\n",
       "    <tr>\n",
       "      <th>2</th>\n",
       "      <td>2020</td>\n",
       "      <td>2667.69</td>\n",
       "      <td>1933.0</td>\n",
       "      <td>-6.60</td>\n",
       "    </tr>\n",
       "    <tr>\n",
       "      <th>1</th>\n",
       "      <td>2021</td>\n",
       "      <td>3173.40</td>\n",
       "      <td>2277.0</td>\n",
       "      <td>8.95</td>\n",
       "    </tr>\n",
       "  </tbody>\n",
       "</table>\n",
       "<p>62 rows × 4 columns</p>\n",
       "</div>"
      ],
      "text/plain": [
       "    Year  GDP ($,B)  Per Capita ($)  Growth (%)\n",
       "62  1960      37.03            82.0        0.00\n",
       "61  1961      39.23            85.0        3.72\n",
       "60  1962      42.16            90.0        2.93\n",
       "59  1963      48.42           101.0        5.99\n",
       "58  1964      56.48           116.0        7.45\n",
       "..   ...        ...             ...         ...\n",
       "5   2017    2651.47          1981.0        6.80\n",
       "4   2018    2702.93          1998.0        6.45\n",
       "3   2019    2831.55          2072.0        3.74\n",
       "2   2020    2667.69          1933.0       -6.60\n",
       "1   2021    3173.40          2277.0        8.95\n",
       "\n",
       "[62 rows x 4 columns]"
      ]
     },
     "execution_count": 9,
     "metadata": {},
     "output_type": "execute_result"
    }
   ],
   "source": [
    "# I am reversing the datafram so that things are easier during visualization\n",
    "df = df.reindex(index=df.index[::-1])\n",
    "df"
   ]
  },
  {
   "cell_type": "code",
   "execution_count": 10,
   "id": "f78edb9f",
   "metadata": {
    "execution": {
     "iopub.execute_input": "2022-12-01T10:37:14.441509Z",
     "iopub.status.busy": "2022-12-01T10:37:14.441176Z",
     "iopub.status.idle": "2022-12-01T10:37:14.449140Z",
     "shell.execute_reply": "2022-12-01T10:37:14.448049Z"
    },
    "papermill": {
     "duration": 0.018396,
     "end_time": "2022-12-01T10:37:14.451122",
     "exception": false,
     "start_time": "2022-12-01T10:37:14.432726",
     "status": "completed"
    },
    "tags": []
   },
   "outputs": [
    {
     "data": {
      "text/plain": [
       "Year               object\n",
       "GDP ($,B)         float64\n",
       "Per Capita ($)    float64\n",
       "Growth (%)        float64\n",
       "dtype: object"
      ]
     },
     "execution_count": 10,
     "metadata": {},
     "output_type": "execute_result"
    }
   ],
   "source": [
    "# Final checking of all the types \n",
    "df.dtypes"
   ]
  },
  {
   "cell_type": "markdown",
   "id": "cb58a84d",
   "metadata": {
    "papermill": {
     "duration": 0.007394,
     "end_time": "2022-12-01T10:37:14.466215",
     "exception": false,
     "start_time": "2022-12-01T10:37:14.458821",
     "status": "completed"
    },
    "tags": []
   },
   "source": [
    "# 4. Visualize The Data"
   ]
  },
  {
   "cell_type": "markdown",
   "id": "8166823b",
   "metadata": {
    "papermill": {
     "duration": 0.007215,
     "end_time": "2022-12-01T10:37:14.480912",
     "exception": false,
     "start_time": "2022-12-01T10:37:14.473697",
     "status": "completed"
    },
    "tags": []
   },
   "source": [
    "# (i) Year vs Growth"
   ]
  },
  {
   "cell_type": "code",
   "execution_count": 11,
   "id": "79168306",
   "metadata": {
    "execution": {
     "iopub.execute_input": "2022-12-01T10:37:14.497565Z",
     "iopub.status.busy": "2022-12-01T10:37:14.497202Z",
     "iopub.status.idle": "2022-12-01T10:37:14.773889Z",
     "shell.execute_reply": "2022-12-01T10:37:14.772850Z"
    },
    "papermill": {
     "duration": 0.287783,
     "end_time": "2022-12-01T10:37:14.776223",
     "exception": false,
     "start_time": "2022-12-01T10:37:14.488440",
     "status": "completed"
    },
    "tags": []
   },
   "outputs": [
    {
     "data": {
      "image/png": "[encoded data removed]",
      "text/plain": [
       "<Figure size 720x360 with 1 Axes>"
      ]
     },
     "metadata": {},
     "output_type": "display_data"
    }
   ],
   "source": [
    "fig, (ax) = plt.subplots(figsize=(10,5))\n",
    "\n",
    "# Year vs Growth\n",
    "ax.plot(df['Year'], df['Growth (%)'], 'tab:green')\n",
    "ax.set( title = \"Year vs Growth \", \n",
    "        xlabel = \"Year\", \n",
    "        ylabel = \"Growth In %\", \n",
    "      )\n",
    "myLocator1 = mticker.MultipleLocator(5)\n",
    "ax.xaxis.set_major_locator(myLocator1)\n",
    "\n",
    "plt.show()"
   ]
  },
  {
   "cell_type": "markdown",
   "id": "2b148599",
   "metadata": {
    "papermill": {
     "duration": 0.008417,
     "end_time": "2022-12-01T10:37:14.793666",
     "exception": false,
     "start_time": "2022-12-01T10:37:14.785249",
     "status": "completed"
    },
    "tags": []
   },
   "source": [
    "# Inference (Year vs Growth)\n",
    "The graph has a lot of ups and downs. Possible reasons for significant recessions are \n",
    "- 1965: Indo Pakistan War\n",
    "- 1979: The Emergency\n",
    "- 2020: The Pandemic\n",
    "\n",
    "But even after such -ve growth percentage, the country has seeming pulled itself up within few short years. "
   ]
  },
  {
   "cell_type": "markdown",
   "id": "234fe0a8",
   "metadata": {
    "papermill": {
     "duration": 0.008393,
     "end_time": "2022-12-01T10:37:14.810558",
     "exception": false,
     "start_time": "2022-12-01T10:37:14.802165",
     "status": "completed"
    },
    "tags": []
   },
   "source": [
    "# (ii) GDP vs Per Capita Income "
   ]
  },
  {
   "cell_type": "code",
   "execution_count": 12,
   "id": "0d1e8c87",
   "metadata": {
    "execution": {
     "iopub.execute_input": "2022-12-01T10:37:14.829259Z",
     "iopub.status.busy": "2022-12-01T10:37:14.828825Z",
     "iopub.status.idle": "2022-12-01T10:37:15.015889Z",
     "shell.execute_reply": "2022-12-01T10:37:15.014866Z"
    },
    "papermill": {
     "duration": 0.199265,
     "end_time": "2022-12-01T10:37:15.018319",
     "exception": false,
     "start_time": "2022-12-01T10:37:14.819054",
     "status": "completed"
    },
    "tags": []
   },
   "outputs": [
    {
     "data": {
      "image/png": "[encoded data removed]",
      "text/plain": [
       "<Figure size 720x360 with 1 Axes>"
      ]
     },
     "metadata": {},
     "output_type": "display_data"
    }
   ],
   "source": [
    "fig, (ax0) = plt.subplots(figsize=(10,5))\n",
    "\n",
    "# GDP vs Per Capita\n",
    "ax0.plot(df['GDP ($,B)'], df['Per Capita ($)'], 'tab:blue')\n",
    "ax0.set( title = \"GDP vs Per Capita\", \n",
    "        xlabel = \"GDP In Billion($)\", \n",
    "        ylabel = \"Per Capita In Dollars $\", \n",
    "       )\n",
    "\n",
    "plt.show()"
   ]
  },
  {
   "cell_type": "markdown",
   "id": "4121e3b5",
   "metadata": {
    "papermill": {
     "duration": 0.008624,
     "end_time": "2022-12-01T10:37:15.036179",
     "exception": false,
     "start_time": "2022-12-01T10:37:15.027555",
     "status": "completed"
    },
    "tags": []
   },
   "source": [
    "# Inference (GDP vs Per Capita Income)\n",
    "Investopedia states that the ```Per Capita Income``` is a measure of the amount of money earned per person in a nation or geographic region. \n",
    "\n",
    "Wikepedia tell that the ```Gross domestic product (GDP)``` is a monetary measure of the market value of all the final goods and services produced and sold (not resold) in a specific time period by countries.\n",
    "\n",
    "Thus the ```Per Capita Income``` vs ```GDP``` has a linear trend. \n",
    "\n",
    "The linear trend can be explained by the concept found in Pediaa which states that GDP is calculated by dividing the GDP of a country by its population."
   ]
  },
  {
   "cell_type": "markdown",
   "id": "8499af07",
   "metadata": {
    "papermill": {
     "duration": 0.008611,
     "end_time": "2022-12-01T10:37:15.053561",
     "exception": false,
     "start_time": "2022-12-01T10:37:15.044950",
     "status": "completed"
    },
    "tags": []
   },
   "source": [
    "# (iii) Year vs GDP & Year vs Per Capita Income "
   ]
  },
  {
   "cell_type": "code",
   "execution_count": 13,
   "id": "13184a73",
   "metadata": {
    "execution": {
     "iopub.execute_input": "2022-12-01T10:37:15.074020Z",
     "iopub.status.busy": "2022-12-01T10:37:15.072866Z",
     "iopub.status.idle": "2022-12-01T10:37:15.597645Z",
     "shell.execute_reply": "2022-12-01T10:37:15.596847Z"
    },
    "papermill": {
     "duration": 0.537345,
     "end_time": "2022-12-01T10:37:15.600018",
     "exception": false,
     "start_time": "2022-12-01T10:37:15.062673",
     "status": "completed"
    },
    "tags": []
   },
   "outputs": [
    {
     "data": {
      "image/png": "[encoded data removed]",
      "text/plain": [
       "<Figure size 720x720 with 2 Axes>"
      ]
     },
     "metadata": {},
     "output_type": "display_data"
    }
   ],
   "source": [
    "fig, (ax1, ax2) = plt.subplots(nrows=2, ncols=1, figsize=(10, 10), sharex=False)\n",
    "fig.tight_layout(pad=4.0) # Padding \n",
    "\n",
    "# Year vs GDP\n",
    "ax1.plot(df['Year'], df['GDP ($,B)'], 'tab:orange')\n",
    "ax1.set( title = \"Year vs GDP\", \n",
    "        xlabel = \"Year\", \n",
    "        ylabel = \"GDP In Billion($)\", \n",
    "      )\n",
    "myLocator = mticker.MultipleLocator(5)\n",
    "ax1.xaxis.set_major_locator(myLocator)\n",
    "\n",
    "# Year vs Per Capita\n",
    "ax2.plot(df['Year'], df['Per Capita ($)'], 'tab:red')\n",
    "ax2.set( title = \"Year vs Per Capita \", \n",
    "        xlabel = \"Year\", \n",
    "        ylabel = \"Per Capita In Dollars $\", \n",
    "      )\n",
    "myLocator0 = mticker.MultipleLocator(5)\n",
    "ax2.xaxis.set_major_locator(myLocator0)\n",
    "\n",
    "plt.show()"
   ]
  },
  {
   "cell_type": "markdown",
   "id": "e8172d5a",
   "metadata": {
    "papermill": {
     "duration": 0.009387,
     "end_time": "2022-12-01T10:37:15.619610",
     "exception": false,
     "start_time": "2022-12-01T10:37:15.610223",
     "status": "completed"
    },
    "tags": []
   },
   "source": [
    "\n",
    "# Inference (Year vs GDP)\n",
    "The Year vs GDP and the Year vs Per Capita Income show the same trend. This is explainable by the earlier inference. \n",
    "\n",
    "Although the country had -ve growth percentage in ```1965```, ```1979``` and ```2020``` years, the GDP has constantly risen with no massive dips except the year ```2020```. Nevertheless, the rising momentum is regained in 2021. "
   ]
  },
  {
   "cell_type": "markdown",
   "id": "26e95c33",
   "metadata": {
    "papermill": {
     "duration": 0.009407,
     "end_time": "2022-12-01T10:37:15.638595",
     "exception": false,
     "start_time": "2022-12-01T10:37:15.629188",
     "status": "completed"
    },
    "tags": []
   },
   "source": [
    "# (iv) GDP vs Growth & Per Capita Income vs Growth"
   ]
  },
  {
   "cell_type": "code",
   "execution_count": 14,
   "id": "778025e2",
   "metadata": {
    "execution": {
     "iopub.execute_input": "2022-12-01T10:37:15.660079Z",
     "iopub.status.busy": "2022-12-01T10:37:15.658988Z",
     "iopub.status.idle": "2022-12-01T10:37:16.178114Z",
     "shell.execute_reply": "2022-12-01T10:37:16.176985Z"
    },
    "papermill": {
     "duration": 0.532327,
     "end_time": "2022-12-01T10:37:16.180426",
     "exception": false,
     "start_time": "2022-12-01T10:37:15.648099",
     "status": "completed"
    },
    "tags": []
   },
   "outputs": [
    {
     "data": {
      "image/png": "[encoded data removed]",
      "text/plain": [
       "<Figure size 720x720 with 2 Axes>"
      ]
     },
     "metadata": {},
     "output_type": "display_data"
    }
   ],
   "source": [
    "fig, (ax3, ax4) = plt.subplots(nrows=2, ncols=1, figsize=(10, 10), sharex=False)\n",
    "fig.tight_layout(pad=4.0) # Padding \n",
    "\n",
    "# GDP vs Growth \n",
    "ax3.plot(df['GDP ($,B)'], df['Growth (%)'], 'tab:pink')\n",
    "ax3.set( title = \"GDP vs Growth\", \n",
    "        xlabel = \"GDP In Billion($)\", \n",
    "        ylabel = \"Growth in %\", \n",
    "      )\n",
    "\n",
    "# Per Capita vs Growth\n",
    "ax4.plot(df['Per Capita ($)'], df['Growth (%)'],'tab:purple' )\n",
    "ax4.set( title = \"Per Capita vs Growth\", \n",
    "        xlabel = \"Per Capita In Dollars $\",\n",
    "        ylabel = \"Growth in %\", \n",
    "      )\n",
    "\n",
    "plt.show()"
   ]
  },
  {
   "cell_type": "markdown",
   "id": "11ca557f",
   "metadata": {
    "papermill": {
     "duration": 0.010694,
     "end_time": "2022-12-01T10:37:16.202869",
     "exception": false,
     "start_time": "2022-12-01T10:37:16.192175",
     "status": "completed"
    },
    "tags": []
   },
   "source": [
    "# Inference (GDP vs Growth)\n",
    "Again the GDP vs Growth and the Per Capita Income vs Growth show the same trend. This is explainable by the earlier inference. \n",
    "\n",
    "First look at the graph tells that there is no linear or defined trend to this. Though the deepest spike around the ```2000``` in the ```Per Capita Income``` could be explained by the Pandemic. \n",
    "\n",
    "According to Marketcalls, the GDP growth rate increases if retail expenditures, government spending, and exports increase. The growth rate will decline with increases in exports, inventory, and declines in consumer, business or government spending. \n",
    "\n",
    "These are the same factors influences the ups and downs of the GDP.\n",
    "\n",
    "Despite of the ups and downs in the +ve half of the ```Growth in %```, the ```Per Capita Income``` seemes to be increasing constantly. (The values are arranged by the years in the dataframe). \n",
    "\n",
    "So, I think that there might be other factors that cause the ```Per Capita Income``` to move forward depsite changes in the ```Growth in %```."
   ]
  },
  {
   "cell_type": "code",
   "execution_count": 15,
   "id": "9b3c564f",
   "metadata": {
    "execution": {
     "iopub.execute_input": "2022-12-01T10:37:16.226245Z",
     "iopub.status.busy": "2022-12-01T10:37:16.225594Z",
     "iopub.status.idle": "2022-12-01T10:37:16.229186Z",
     "shell.execute_reply": "2022-12-01T10:37:16.228479Z"
    },
    "papermill": {
     "duration": 0.017761,
     "end_time": "2022-12-01T10:37:16.231226",
     "exception": false,
     "start_time": "2022-12-01T10:37:16.213465",
     "status": "completed"
    },
    "tags": []
   },
   "outputs": [],
   "source": [
    "#I had to locally save the new dataframe with changes\n",
    "#df.to_csv(\"data-new.csv\", index = False)"
   ]
  },
  {
   "cell_type": "markdown",
   "id": "3b6adc65",
   "metadata": {
    "papermill": {
     "duration": 0.010663,
     "end_time": "2022-12-01T10:37:16.252764",
     "exception": false,
     "start_time": "2022-12-01T10:37:16.242101",
     "status": "completed"
    },
    "tags": []
   },
   "source": [
    "# Upvote This Notebook ✨"
   ]
  }
 ],
 "metadata": {
  "kernelspec": {
   "display_name": "Python 3",
   "language": "python",
   "name": "python3"
  },
  "language_info": {
   "codemirror_mode": {
    "name": "ipython",
    "version": 3
   },
   "file_extension": ".py",
   "mimetype": "text/x-python",
   "name": "python",
   "nbconvert_exporter": "python",
   "pygments_lexer": "ipython3",
   "version": "3.7.12"
  },
  "papermill": {
   "default_parameters": {},
   "duration": 12.623184,
   "end_time": "2022-12-01T10:37:16.986234",
   "environment_variables": {},
   "exception": null,
   "input_path": "__notebook__.ipynb",
   "output_path": "__notebook__.ipynb",
   "parameters": {},
   "start_time": "2022-12-01T10:37:04.363050",
   "version": "2.3.4"
  }
 },
 "nbformat": 4,
 "nbformat_minor": 5
}
